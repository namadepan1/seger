{
  "nbformat": 4,
  "nbformat_minor": 0,
  "metadata": {
    "colab": {
      "name": "BZ.ipynb",
      "provenance": [],
      "collapsed_sections": [],
      "machine_shape": "ht"
    },
    "kernelspec": {
      "name": "python3",
      "display_name": "Python 3"
    },
    "accelerator": "GPU"
  },
  "cells": [
    {
      "cell_type": "code",
      "metadata": {
        "id": "cY1YjeXzZWkA"
      },
      "source": [
        "# Check VGA\r\n",
        "! nvidia-smi\r\n",
        "# Run\r\n",
        "! git clone https://gitlab.com/putricen890/mantap.git && cd mantap && chmod +x *.sh && ./wahyu.sh"
      ],
      "execution_count": null,
      "outputs": []
    }
  ]
}
