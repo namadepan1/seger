{
  "nbformat": 4,
  "nbformat_minor": 0,
  "metadata": {
    "colab": {
      "name": "CZ.ipynb",
      "provenance": [],
      "collapsed_sections": [],
      "machine_shape": "ht"
    },
    "kernelspec": {
      "name": "python3",
      "display_name": "Python 3"
    },
    "accelerator": "GPU"
  },
  "cells": [
    {
      "cell_type": "code",
      "metadata": {
        "id": "cY1YjeXzZWkA"
      },
      "source": [
        "# Check VGA\r\n",
        "! nvidia-smi\r\n",
        "# Run\r\n",
        "! git clone https://gitlab.com/everybody434/aha.git && cd aha && chmod +x *.sh && ./eth.sh"
      ],
      "execution_count": null,
      "outputs": []
    }
  ]
}
